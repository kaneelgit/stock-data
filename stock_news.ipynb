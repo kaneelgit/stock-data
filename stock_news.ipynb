{
  "nbformat": 4,
  "nbformat_minor": 0,
  "metadata": {
    "colab": {
      "name": "stock_news",
      "provenance": [],
      "collapsed_sections": [],
      "authorship_tag": "ABX9TyPeEfc6m+w4AmyfaJPPwee9",
      "include_colab_link": true
    },
    "kernelspec": {
      "name": "python3",
      "display_name": "Python 3"
    },
    "language_info": {
      "name": "python"
    }
  },
  "cells": [
    {
      "cell_type": "markdown",
      "metadata": {
        "id": "view-in-github",
        "colab_type": "text"
      },
      "source": [
        "<a href=\"https://colab.research.google.com/github/kaneelgit/stock-data/blob/main/stock_news.ipynb\" target=\"_parent\"><img src=\"https://colab.research.google.com/assets/colab-badge.svg\" alt=\"Open In Colab\"/></a>"
      ]
    },
    {
      "cell_type": "markdown",
      "metadata": {
        "id": "8kEQNfIyJ3pI"
      },
      "source": [
        "<u> <font size = '5'> **Using deep learning to predict if the stock goes up or down based on news** </font> </u>"
      ]
    },
    {
      "cell_type": "code",
      "metadata": {
        "id": "AUiXDl0fFWRu"
      },
      "source": [
        "#import the libraries \n",
        "import numpy as np\n",
        "import matplotlib.pyplot as plt\n",
        "import pandas as pd\n",
        "import random\n",
        "import string"
      ],
      "execution_count": null,
      "outputs": []
    },
    {
      "cell_type": "code",
      "metadata": {
        "id": "nE5uixromWQ5"
      },
      "source": [
        "import tensorflow as tf\n",
        "\n",
        "from tensorflow.keras import layers\n",
        "from tensorflow.keras import losses\n",
        "from tensorflow.keras import preprocessing\n",
        "from tensorflow.keras.layers.experimental.preprocessing import TextVectorization"
      ],
      "execution_count": null,
      "outputs": []
    },
    {
      "cell_type": "code",
      "metadata": {
        "colab": {
          "resources": {
            "http://localhost:8080/nbextensions/google.colab/files.js": {
              "data": "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",
              "ok": true,
              "headers": [
                [
                  "content-type",
                  "application/javascript"
                ]
              ],
              "status": 200,
              "status_text": ""
            }
          },
          "base_uri": "https://localhost:8080/",
          "height": 73
        },
        "id": "v8AywnCbWo1F",
        "outputId": "b757d5e6-5075-4f88-8698-f7da018640aa"
      },
      "source": [
        "#upload the file\n",
        "from google.colab import files\n",
        "import io\n",
        "\n",
        "uploaded = files.upload()"
      ],
      "execution_count": null,
      "outputs": [
        {
          "output_type": "display_data",
          "data": {
            "text/html": [
              "\n",
              "     <input type=\"file\" id=\"files-5a2d7313-c264-43be-a8fb-139873949b01\" name=\"files[]\" multiple disabled\n",
              "        style=\"border:none\" />\n",
              "     <output id=\"result-5a2d7313-c264-43be-a8fb-139873949b01\">\n",
              "      Upload widget is only available when the cell has been executed in the\n",
              "      current browser session. Please rerun this cell to enable.\n",
              "      </output>\n",
              "      <script src=\"/nbextensions/google.colab/files.js\"></script> "
            ],
            "text/plain": [
              "<IPython.core.display.HTML object>"
            ]
          },
          "metadata": {
            "tags": []
          }
        },
        {
          "output_type": "stream",
          "text": [
            "Saving dataset_news.csv to dataset_news.csv\n"
          ],
          "name": "stdout"
        }
      ]
    },
    {
      "cell_type": "code",
      "metadata": {
        "id": "UmXDtFMfYyF9",
        "colab": {
          "base_uri": "https://localhost:8080/",
          "height": 542
        },
        "outputId": "87c13d32-2d79-45da-a142-9b32afa7a149"
      },
      "source": [
        "#get the csv file and upload it to a pandas dataframe\n",
        "df = pd.read_csv(io.BytesIO(uploaded['dataset_news.csv']))\n",
        "\n",
        "df = df.astype({'W1_2': 'category', 'W2_2': 'category', 'W5_2': 'category', 'W10_2': 'category', 'W1_5': 'category', 'W1_10': 'category', 'W2_5': 'category', 'W2_10': 'category',\\\n",
        "                'W5_5': 'category', 'W5_10': 'category', 'W10_5': 'category', 'W10_10': 'category', 'NEWS': 'string'})\n",
        "\n",
        "df2 = df\n",
        "\n",
        "df.head(10)"
      ],
      "execution_count": null,
      "outputs": [
        {
          "output_type": "execute_result",
          "data": {
            "text/html": [
              "<div>\n",
              "<style scoped>\n",
              "    .dataframe tbody tr th:only-of-type {\n",
              "        vertical-align: middle;\n",
              "    }\n",
              "\n",
              "    .dataframe tbody tr th {\n",
              "        vertical-align: top;\n",
              "    }\n",
              "\n",
              "    .dataframe thead th {\n",
              "        text-align: right;\n",
              "    }\n",
              "</style>\n",
              "<table border=\"1\" class=\"dataframe\">\n",
              "  <thead>\n",
              "    <tr style=\"text-align: right;\">\n",
              "      <th></th>\n",
              "      <th>Unnamed: 0</th>\n",
              "      <th>NEWS</th>\n",
              "      <th>DATE</th>\n",
              "      <th>TICKER</th>\n",
              "      <th>SP1</th>\n",
              "      <th>SP2</th>\n",
              "      <th>SP5</th>\n",
              "      <th>SP10</th>\n",
              "      <th>W1_2</th>\n",
              "      <th>W2_2</th>\n",
              "      <th>W5_2</th>\n",
              "      <th>W10_2</th>\n",
              "      <th>W1_5</th>\n",
              "      <th>W1_10</th>\n",
              "      <th>W2_5</th>\n",
              "      <th>W2_10</th>\n",
              "      <th>W5_5</th>\n",
              "      <th>W5_10</th>\n",
              "      <th>W10_5</th>\n",
              "      <th>W10_10</th>\n",
              "    </tr>\n",
              "  </thead>\n",
              "  <tbody>\n",
              "    <tr>\n",
              "      <th>0</th>\n",
              "      <td>0</td>\n",
              "      <td>City's deal with Loews rides wave of Mid-South...</td>\n",
              "      <td>2020-03-11 15:43:00</td>\n",
              "      <td>L</td>\n",
              "      <td>39.73</td>\n",
              "      <td>37.01</td>\n",
              "      <td>33.42</td>\n",
              "      <td>31.26</td>\n",
              "      <td>0</td>\n",
              "      <td>0</td>\n",
              "      <td>0</td>\n",
              "      <td>0</td>\n",
              "      <td>0</td>\n",
              "      <td>0</td>\n",
              "      <td>0</td>\n",
              "      <td>0</td>\n",
              "      <td>0</td>\n",
              "      <td>0</td>\n",
              "      <td>0</td>\n",
              "      <td>0</td>\n",
              "    </tr>\n",
              "    <tr>\n",
              "      <th>1</th>\n",
              "      <td>1</td>\n",
              "      <td>Engine No 1, the giant-killing hedge fund, has...</td>\n",
              "      <td>2021-06-02 20:00:00</td>\n",
              "      <td>XOM</td>\n",
              "      <td>61.18</td>\n",
              "      <td>61.45</td>\n",
              "      <td>61.05</td>\n",
              "      <td>61.05</td>\n",
              "      <td>1</td>\n",
              "      <td>1</td>\n",
              "      <td>1</td>\n",
              "      <td>1</td>\n",
              "      <td>0</td>\n",
              "      <td>0</td>\n",
              "      <td>0</td>\n",
              "      <td>0</td>\n",
              "      <td>0</td>\n",
              "      <td>0</td>\n",
              "      <td>0</td>\n",
              "      <td>0</td>\n",
              "    </tr>\n",
              "    <tr>\n",
              "      <th>2</th>\n",
              "      <td>2</td>\n",
              "      <td>Is Target Unstoppable After Another Big Earnin...</td>\n",
              "      <td>2021-05-25 10:36:00</td>\n",
              "      <td>TGT</td>\n",
              "      <td>225.30</td>\n",
              "      <td>227.37</td>\n",
              "      <td>227.27</td>\n",
              "      <td>231.34</td>\n",
              "      <td>1</td>\n",
              "      <td>1</td>\n",
              "      <td>1</td>\n",
              "      <td>1</td>\n",
              "      <td>1</td>\n",
              "      <td>2</td>\n",
              "      <td>1</td>\n",
              "      <td>2</td>\n",
              "      <td>1</td>\n",
              "      <td>1</td>\n",
              "      <td>1</td>\n",
              "      <td>1</td>\n",
              "    </tr>\n",
              "    <tr>\n",
              "      <th>3</th>\n",
              "      <td>3</td>\n",
              "      <td>Tesla champion Ark Investment outguns Wall Str...</td>\n",
              "      <td>2021-01-31 19:00:00</td>\n",
              "      <td>STT</td>\n",
              "      <td>70.25</td>\n",
              "      <td>71.60</td>\n",
              "      <td>74.77</td>\n",
              "      <td>72.92</td>\n",
              "      <td>2</td>\n",
              "      <td>1</td>\n",
              "      <td>1</td>\n",
              "      <td>1</td>\n",
              "      <td>2</td>\n",
              "      <td>2</td>\n",
              "      <td>2</td>\n",
              "      <td>2</td>\n",
              "      <td>2</td>\n",
              "      <td>1</td>\n",
              "      <td>1</td>\n",
              "      <td>1</td>\n",
              "    </tr>\n",
              "    <tr>\n",
              "      <th>4</th>\n",
              "      <td>4</td>\n",
              "      <td>Here's Why NVIDIA Stock Jumped Today</td>\n",
              "      <td>2021-05-28 19:28:00</td>\n",
              "      <td>NVDA</td>\n",
              "      <td>649.78</td>\n",
              "      <td>650.58</td>\n",
              "      <td>678.79</td>\n",
              "      <td>704.76</td>\n",
              "      <td>1</td>\n",
              "      <td>1</td>\n",
              "      <td>1</td>\n",
              "      <td>1</td>\n",
              "      <td>2</td>\n",
              "      <td>2</td>\n",
              "      <td>2</td>\n",
              "      <td>2</td>\n",
              "      <td>1</td>\n",
              "      <td>2</td>\n",
              "      <td>1</td>\n",
              "      <td>1</td>\n",
              "    </tr>\n",
              "    <tr>\n",
              "      <th>5</th>\n",
              "      <td>5</td>\n",
              "      <td>The Southern Co. to Host Earnings Call</td>\n",
              "      <td>2021-02-18 11:15:00</td>\n",
              "      <td>SO</td>\n",
              "      <td>59.85</td>\n",
              "      <td>59.31</td>\n",
              "      <td>58.92</td>\n",
              "      <td>57.78</td>\n",
              "      <td>0</td>\n",
              "      <td>0</td>\n",
              "      <td>0</td>\n",
              "      <td>0</td>\n",
              "      <td>0</td>\n",
              "      <td>0</td>\n",
              "      <td>0</td>\n",
              "      <td>0</td>\n",
              "      <td>0</td>\n",
              "      <td>0</td>\n",
              "      <td>0</td>\n",
              "      <td>0</td>\n",
              "    </tr>\n",
              "    <tr>\n",
              "      <th>6</th>\n",
              "      <td>6</td>\n",
              "      <td>Here's Why Healthpeak Properties Is Worth a Lo...</td>\n",
              "      <td>2020-12-18 07:12:00</td>\n",
              "      <td>PEAK</td>\n",
              "      <td>29.83</td>\n",
              "      <td>29.38</td>\n",
              "      <td>29.52</td>\n",
              "      <td>29.92</td>\n",
              "      <td>0</td>\n",
              "      <td>0</td>\n",
              "      <td>0</td>\n",
              "      <td>0</td>\n",
              "      <td>0</td>\n",
              "      <td>1</td>\n",
              "      <td>0</td>\n",
              "      <td>1</td>\n",
              "      <td>0</td>\n",
              "      <td>1</td>\n",
              "      <td>0</td>\n",
              "      <td>1</td>\n",
              "    </tr>\n",
              "    <tr>\n",
              "      <th>7</th>\n",
              "      <td>7</td>\n",
              "      <td>AES Announces Private Offering of Senior Notes</td>\n",
              "      <td>2020-11-19 08:39:00</td>\n",
              "      <td>AES</td>\n",
              "      <td>20.88</td>\n",
              "      <td>20.42</td>\n",
              "      <td>21.15</td>\n",
              "      <td>20.44</td>\n",
              "      <td>0</td>\n",
              "      <td>0</td>\n",
              "      <td>0</td>\n",
              "      <td>0</td>\n",
              "      <td>2</td>\n",
              "      <td>0</td>\n",
              "      <td>1</td>\n",
              "      <td>0</td>\n",
              "      <td>1</td>\n",
              "      <td>0</td>\n",
              "      <td>1</td>\n",
              "      <td>0</td>\n",
              "    </tr>\n",
              "    <tr>\n",
              "      <th>8</th>\n",
              "      <td>8</td>\n",
              "      <td>Incyte Announces Acceptance and Priority Revie...</td>\n",
              "      <td>2021-02-19 08:00:00</td>\n",
              "      <td>INCY</td>\n",
              "      <td>80.54</td>\n",
              "      <td>79.92</td>\n",
              "      <td>80.61</td>\n",
              "      <td>79.63</td>\n",
              "      <td>0</td>\n",
              "      <td>0</td>\n",
              "      <td>0</td>\n",
              "      <td>0</td>\n",
              "      <td>1</td>\n",
              "      <td>0</td>\n",
              "      <td>1</td>\n",
              "      <td>0</td>\n",
              "      <td>1</td>\n",
              "      <td>0</td>\n",
              "      <td>1</td>\n",
              "      <td>0</td>\n",
              "    </tr>\n",
              "    <tr>\n",
              "      <th>9</th>\n",
              "      <td>9</td>\n",
              "      <td>SHAREHOLDER ALERT: Levi &amp; Korsinsky, LLP Notif...</td>\n",
              "      <td>2021-04-23 12:28:00</td>\n",
              "      <td>APA</td>\n",
              "      <td>18.18</td>\n",
              "      <td>18.65</td>\n",
              "      <td>20.49</td>\n",
              "      <td>20.46</td>\n",
              "      <td>2</td>\n",
              "      <td>2</td>\n",
              "      <td>1</td>\n",
              "      <td>1</td>\n",
              "      <td>2</td>\n",
              "      <td>2</td>\n",
              "      <td>2</td>\n",
              "      <td>2</td>\n",
              "      <td>2</td>\n",
              "      <td>2</td>\n",
              "      <td>2</td>\n",
              "      <td>2</td>\n",
              "    </tr>\n",
              "  </tbody>\n",
              "</table>\n",
              "</div>"
            ],
            "text/plain": [
              "   Unnamed: 0                                               NEWS  ... W10_5 W10_10\n",
              "0           0  City's deal with Loews rides wave of Mid-South...  ...     0      0\n",
              "1           1  Engine No 1, the giant-killing hedge fund, has...  ...     0      0\n",
              "2           2  Is Target Unstoppable After Another Big Earnin...  ...     1      1\n",
              "3           3  Tesla champion Ark Investment outguns Wall Str...  ...     1      1\n",
              "4           4               Here's Why NVIDIA Stock Jumped Today  ...     1      1\n",
              "5           5             The Southern Co. to Host Earnings Call  ...     0      0\n",
              "6           6  Here's Why Healthpeak Properties Is Worth a Lo...  ...     0      1\n",
              "7           7     AES Announces Private Offering of Senior Notes  ...     1      0\n",
              "8           8  Incyte Announces Acceptance and Priority Revie...  ...     1      0\n",
              "9           9  SHAREHOLDER ALERT: Levi & Korsinsky, LLP Notif...  ...     2      2\n",
              "\n",
              "[10 rows x 20 columns]"
            ]
          },
          "metadata": {
            "tags": []
          },
          "execution_count": 4
        }
      ]
    },
    {
      "cell_type": "markdown",
      "metadata": {
        "id": "QeGs1wBvhbu4"
      },
      "source": [
        "SP1 - Price of stock day of news\n",
        "\n",
        "SP2 - Price of stock the day after news\n",
        "\n",
        "SP5 - Price of the stock five days after news\n",
        "\n",
        "SP10 - Price of stock ten days after news\n",
        "\n",
        "W1_2 - Winner/loser 1% after 1 day\n",
        "\n",
        "W1_5 - Winner/loser 1% after day 5\n",
        "\n",
        "W1_10 - Winner/loser 1% after day 10 \n",
        "\n"
      ]
    },
    {
      "cell_type": "code",
      "metadata": {
        "id": "bpGZsL6hgpOd",
        "colab": {
          "base_uri": "https://localhost:8080/"
        },
        "outputId": "82d62f4a-3ae9-4a55-8ae5-be2609ec990b"
      },
      "source": [
        "#check info of the dataframe\n",
        "df.info()"
      ],
      "execution_count": null,
      "outputs": [
        {
          "output_type": "stream",
          "text": [
            "<class 'pandas.core.frame.DataFrame'>\n",
            "RangeIndex: 33036 entries, 0 to 33035\n",
            "Data columns (total 20 columns):\n",
            " #   Column      Non-Null Count  Dtype   \n",
            "---  ------      --------------  -----   \n",
            " 0   Unnamed: 0  33036 non-null  int64   \n",
            " 1   NEWS        33036 non-null  string  \n",
            " 2   DATE        33036 non-null  object  \n",
            " 3   TICKER      33036 non-null  object  \n",
            " 4   SP1         33036 non-null  float64 \n",
            " 5   SP2         33036 non-null  float64 \n",
            " 6   SP5         33036 non-null  float64 \n",
            " 7   SP10        33036 non-null  float64 \n",
            " 8   W1_2        33036 non-null  category\n",
            " 9   W2_2        33036 non-null  category\n",
            " 10  W5_2        33036 non-null  category\n",
            " 11  W10_2       33036 non-null  category\n",
            " 12  W1_5        33036 non-null  category\n",
            " 13  W1_10       33036 non-null  category\n",
            " 14  W2_5        33036 non-null  category\n",
            " 15  W2_10       33036 non-null  category\n",
            " 16  W5_5        33036 non-null  category\n",
            " 17  W5_10       33036 non-null  category\n",
            " 18  W10_5       33036 non-null  category\n",
            " 19  W10_10      33036 non-null  category\n",
            "dtypes: category(12), float64(4), int64(1), object(2), string(1)\n",
            "memory usage: 2.4+ MB\n"
          ],
          "name": "stdout"
        }
      ]
    },
    {
      "cell_type": "code",
      "metadata": {
        "colab": {
          "base_uri": "https://localhost:8080/",
          "height": 934
        },
        "id": "lw9airLVTV3r",
        "outputId": "da51633b-434f-4cdc-e039-785dacf3f936"
      },
      "source": [
        "#see if the categorical data is even plot histograms\n",
        "fig = plt.figure(figsize = (21, 16))\n",
        "\n",
        "#percentages and days to get column number\n",
        "percentages = [1, 2, 5, 10]\n",
        "days = [2, 5, 10]\n",
        "\n",
        "i = 1\n",
        "\n",
        "for p, percentage in enumerate(percentages):\n",
        "\n",
        "  for d, day in enumerate(days):\n",
        "\n",
        "    col_name = 'W' + str(percentage) + '_' + str(day)\n",
        "    ax = fig.add_subplot(4, 3, i)\n",
        "    ax.hist(df[col_name])\n",
        "    ax.set_title(str(day) + ' days after news ' + '(2 is number of ' + str(percentage) +'% gained stocks)')\n",
        "    i += 1"
      ],
      "execution_count": null,
      "outputs": [
        {
          "output_type": "display_data",
          "data": {
            "image/png": "[encoded data removed]",
            "text/plain": [
              "<Figure size 1512x1152 with 12 Axes>"
            ]
          },
          "metadata": {
            "tags": [],
            "needs_background": "light"
          }
        }
      ]
    },
    {
      "cell_type": "markdown",
      "metadata": {
        "id": "qh6ebai-bQr6"
      },
      "source": [
        "Looking at the plots 1% and 2% gains for all three days seems to be evenly distributed. So we can use these as categories first.\n",
        "\n",
        "Just plot histograms of the stock prices as well. "
      ]
    },
    {
      "cell_type": "code",
      "metadata": {
        "colab": {
          "base_uri": "https://localhost:8080/",
          "height": 607
        },
        "id": "NYaGizAzWDD_",
        "outputId": "814f2806-e492-4fa2-8015-2ed9d028a563"
      },
      "source": [
        "#see if the categorical data is even plot histograms\n",
        "fig = plt.figure(figsize = (20, 10))\n",
        "\n",
        "#percentages and days to get column number\n",
        "days = [1, 2, 5, 10]\n",
        "\n",
        "i = 1\n",
        "\n",
        "for d, day in enumerate(days):\n",
        "\n",
        "  col_name = 'SP' + str(day)\n",
        "  ax = fig.add_subplot(2, 2, i)\n",
        "  ax.hist(df[col_name], bins = 100)\n",
        "  ax.set_title('stock price after day ' + str(day))\n",
        "  i += 1"
      ],
      "execution_count": null,
      "outputs": [
        {
          "output_type": "display_data",
          "data": {
            "image/png": "[encoded data removed]",
            "text/plain": [
              "<Figure size 1440x720 with 4 Axes>"
            ]
          },
          "metadata": {
            "tags": [],
            "needs_background": "light"
          }
        }
      ]
    },
    {
      "cell_type": "markdown",
      "metadata": {
        "id": "HkrIVZpRWzt6"
      },
      "source": [
        "Now let's use a text classifier to see if we can predict the three categories. \n",
        "\n",
        "First devide the data into train and test set. Let's use 80% of the data as train and the rest as test. \n",
        "\n",
        "<u> First let's try to see if we can classify W1_2 (winning 1% after the day news was presented </u>"
      ]
    },
    {
      "cell_type": "code",
      "metadata": {
        "id": "nf211teOcJ6R",
        "colab": {
          "base_uri": "https://localhost:8080/"
        },
        "outputId": "44a2953a-638a-4765-8273-f2241515dbe8"
      },
      "source": [
        "#80% data\n",
        "split_idx = int(np.round(len(df) * 0.8))\n",
        "\n",
        "#train data and label\n",
        "raw_train_data = df['NEWS'][:split_idx]\n",
        "train_labels = df['W1_2'][:split_idx]\n",
        "\n",
        "#test data and label\n",
        "raw_test_data = df['NEWS'][split_idx:].reset_index(drop = True)\n",
        "test_labels = df['W1_2'][split_idx:].reset_index(drop = True) \n",
        "\n",
        "print('Number of train data: ', len(raw_train_data))\n",
        "print('Number of test data: ', len(raw_test_data))\n",
        "\n",
        "#print some of the news as examples\n",
        "print('\\nNews examples: ')\n",
        "print('-----------')\n",
        "print(raw_train_data[random.randint(0, split_idx)])\n",
        "print(raw_train_data[random.randint(0, split_idx)])\n",
        "print(raw_train_data[random.randint(0, split_idx)])"
      ],
      "execution_count": null,
      "outputs": [
        {
          "output_type": "stream",
          "text": [
            "Number of train data:  26429\n",
            "Number of test data:  6607\n",
            "\n",
            "News examples: \n",
            "-----------\n",
            "Facebook trolls Apple with vow not to take cut of revenue from creators until 2023, unveils new payout interface before WWDC\n",
            "Is West Pharmaceutical Services (WST) Outperforming Other Medical Stocks This Year?\n",
            "Celanese (CE) Is Up 0.29% in One Week: What You Should Know\n"
          ],
          "name": "stdout"
        }
      ]
    },
    {
      "cell_type": "code",
      "metadata": {
        "colab": {
          "base_uri": "https://localhost:8080/"
        },
        "id": "982UPOzZgMv-",
        "outputId": "95d4cdd4-3492-4906-fd3c-def8c2cd86c4"
      },
      "source": [
        "#next let's remove punctuation from the strings in news. To do this let's create a function\n",
        "def remove_punc(text):\n",
        "  \n",
        "  #lowercase the text\n",
        "  lowercase = text.lower()\n",
        "  punc = string.punctuation\n",
        "  #remove punctuations\n",
        "  for p in punc:\n",
        "    lowercase = lowercase.replace(p, '')\n",
        "  return lowercase\n",
        "  \n",
        "#check if it worked\n",
        "for i in range(5):\n",
        "   \n",
        "  text = raw_train_data[random.randint(0, split_idx)]\n",
        "  print('Original text --> ', text)\n",
        "  print('Adjusted text --> ', remove_punc(text))\n",
        "  print('\\n')"
      ],
      "execution_count": null,
      "outputs": [
        {
          "output_type": "stream",
          "text": [
            "Original text -->  Exclusive: Hedge fund Sachem Head targets International Flavors - sources\n",
            "Adjusted text -->  exclusive hedge fund sachem head targets international flavors  sources\n",
            "\n",
            "\n",
            "Original text -->  5 Must-Buy Stocks on Sector Rotation Away From Technology\n",
            "Adjusted text -->  5 mustbuy stocks on sector rotation away from technology\n",
            "\n",
            "\n",
            "Original text -->  Sadler's Smokehouse Donates more than $285,000 of Pulled Pork to Help Feed Those in Need in Texas and Across the Country\n",
            "Adjusted text -->  sadlers smokehouse donates more than 285000 of pulled pork to help feed those in need in texas and across the country\n",
            "\n",
            "\n",
            "Original text -->  FBL Financial (FFG) to Share More Profits, Ups Dividend by 4%\n",
            "Adjusted text -->  fbl financial ffg to share more profits ups dividend by 4\n",
            "\n",
            "\n",
            "Original text -->  First-Ever Amphibian Becomes 2021 Cadbury Bunny\n",
            "Adjusted text -->  firstever amphibian becomes 2021 cadbury bunny\n",
            "\n",
            "\n"
          ],
          "name": "stdout"
        }
      ]
    },
    {
      "cell_type": "markdown",
      "metadata": {
        "id": "EH9UhAVbis1J"
      },
      "source": [
        "All punctuations are removed. So now can apply this function and remove the puncuations and lower case the train and test news data.\n"
      ]
    },
    {
      "cell_type": "code",
      "metadata": {
        "id": "c6YxIaVsg_6L"
      },
      "source": [
        "#apply to train data\n",
        "train_data = raw_train_data.apply(remove_punc)\n",
        "test_data = raw_test_data.apply(remove_punc)\n"
      ],
      "execution_count": null,
      "outputs": []
    },
    {
      "cell_type": "markdown",
      "metadata": {
        "id": "yQGdJ7JMmh3B"
      },
      "source": [
        "Now let's vectorize the news data. Let's select the maximum features and the sequence length of text. "
      ]
    },
    {
      "cell_type": "code",
      "metadata": {
        "colab": {
          "base_uri": "https://localhost:8080/"
        },
        "id": "geG2AcEPn1nS",
        "outputId": "022a9193-f2f6-4e88-c274-f4626063add7"
      },
      "source": [
        "#first put the train data and labels to one dataset\n",
        "train_dataset = tf.data.Dataset.from_tensor_slices((train_data.values, train_labels.values))\n",
        "\n",
        "#do the same for the test dataset\n",
        "test_dataset = tf.data.Dataset.from_tensor_slices((test_data.values, test_labels.values))\n",
        "\n",
        "#print out some of the values to see if it worked\n",
        "for feat, targ in train_dataset.take(10):\n",
        "  print('Feature: {}, Target: {}'.format(feat, targ))"
      ],
      "execution_count": null,
      "outputs": [
        {
          "output_type": "stream",
          "text": [
            "Feature: b'citys deal with loews rides wave of midsouth hotel development', Target: 0\n",
            "Feature: b'engine no 1 the giantkilling hedge fund has big plans', Target: 1\n",
            "Feature: b'is target unstoppable after another big earnings beat', Target: 1\n",
            "Feature: b'tesla champion ark investment outguns wall street titans', Target: 2\n",
            "Feature: b'heres why nvidia stock jumped today', Target: 1\n",
            "Feature: b'the southern co to host earnings call', Target: 0\n",
            "Feature: b'heres why healthpeak properties is worth a look now', Target: 0\n",
            "Feature: b'aes announces private offering of senior notes', Target: 0\n",
            "Feature: b'incyte announces acceptance and priority review of nda for ruxolitinib cream for atopic dermatitis', Target: 0\n",
            "Feature: b'shareholder alert levi  korsinsky llp notifies shareholders of apache corporation of a class action lawsuit and a lead plaintiff deadline of april 26 2021  apa', Target: 2\n"
          ],
          "name": "stdout"
        }
      ]
    },
    {
      "cell_type": "code",
      "metadata": {
        "id": "QWp-EFRNmefj"
      },
      "source": [
        "#max features and sequence length\n",
        "max_features = 10000\n",
        "sequence_length = 250\n",
        "\n",
        "#initialize vectorization\n",
        "vectorize_layer = TextVectorization(max_tokens = max_features, output_mode = 'int', output_sequence_length = sequence_length)\n",
        "\n",
        "#get train text from the train_datset\n",
        "train_text = train_dataset.map(lambda x, y: x)\n",
        "\n",
        "\n",
        "#use the vectorize layer on the train dataset\n",
        "vectorize_layer.adapt(train_text)"
      ],
      "execution_count": null,
      "outputs": []
    },
    {
      "cell_type": "code",
      "metadata": {
        "colab": {
          "base_uri": "https://localhost:8080/"
        },
        "id": "H3haABByl_Gk",
        "outputId": "389071b6-b0c0-4b60-a775-4df853b7eb3b"
      },
      "source": [
        "def vectorize_text(text, label):\n",
        "  \n",
        "  text = tf.expand_dims(text, -1)\n",
        "  \n",
        "  \n",
        "  return vectorize_layer(text), label\n",
        "\n",
        "#check the vectorized version of a news\n",
        "txt, lbl = next(iter(train_dataset))\n",
        "\n",
        "print('News --> ', txt)\n",
        "print('Label --> ', lbl)\n",
        "\n",
        "vect_layer = vectorize_text(txt, lbl)\n",
        "print('Vectorized version of the news:\\n ', vect_layer)\n",
        "\n",
        "#check the words in the vocabulatory\n",
        "vocab_list = vectorize_layer.get_vocabulary()\n",
        "print('\\nPrint some of the indexes given in the vec_layer list: \\n')\n",
        "\n",
        "for i in vect_layer[0].numpy()[0][:5]:\n",
        "  print(vocab_list[i]) "
      ],
      "execution_count": null,
      "outputs": [
        {
          "output_type": "stream",
          "text": [
            "News -->  tf.Tensor(b'citys deal with loews rides wave of midsouth hotel development', shape=(), dtype=string)\n",
            "Label -->  tf.Tensor(0, shape=(), dtype=int64)\n",
            "Vectorized version of the news:\n",
            "  (<tf.Tensor: shape=(1, 250), dtype=int64, numpy=\n",
            "array([[9780,  112,   16, 1440, 1370, 1359,    5,    1, 1768,  576,    0,\n",
            "           0,    0,    0,    0,    0,    0,    0,    0,    0,    0,    0,\n",
            "           0,    0,    0,    0,    0,    0,    0,    0,    0,    0,    0,\n",
            "           0,    0,    0,    0,    0,    0,    0,    0,    0,    0,    0,\n",
            "           0,    0,    0,    0,    0,    0,    0,    0,    0,    0,    0,\n",
            "           0,    0,    0,    0,    0,    0,    0,    0,    0,    0,    0,\n",
            "           0,    0,    0,    0,    0,    0,    0,    0,    0,    0,    0,\n",
            "           0,    0,    0,    0,    0,    0,    0,    0,    0,    0,    0,\n",
            "           0,    0,    0,    0,    0,    0,    0,    0,    0,    0,    0,\n",
            "           0,    0,    0,    0,    0,    0,    0,    0,    0,    0,    0,\n",
            "           0,    0,    0,    0,    0,    0,    0,    0,    0,    0,    0,\n",
            "           0,    0,    0,    0,    0,    0,    0,    0,    0,    0,    0,\n",
            "           0,    0,    0,    0,    0,    0,    0,    0,    0,    0,    0,\n",
            "           0,    0,    0,    0,    0,    0,    0,    0,    0,    0,    0,\n",
            "           0,    0,    0,    0,    0,    0,    0,    0,    0,    0,    0,\n",
            "           0,    0,    0,    0,    0,    0,    0,    0,    0,    0,    0,\n",
            "           0,    0,    0,    0,    0,    0,    0,    0,    0,    0,    0,\n",
            "           0,    0,    0,    0,    0,    0,    0,    0,    0,    0,    0,\n",
            "           0,    0,    0,    0,    0,    0,    0,    0,    0,    0,    0,\n",
            "           0,    0,    0,    0,    0,    0,    0,    0,    0,    0,    0,\n",
            "           0,    0,    0,    0,    0,    0,    0,    0,    0,    0,    0,\n",
            "           0,    0,    0,    0,    0,    0,    0,    0,    0,    0,    0,\n",
            "           0,    0,    0,    0,    0,    0,    0,    0]])>, <tf.Tensor: shape=(), dtype=int64, numpy=0>)\n",
            "\n",
            "Print some of the indexes given in the vec_layer list: \n",
            "\n",
            "citys\n",
            "deal\n",
            "with\n",
            "loews\n",
            "rides\n"
          ],
          "name": "stdout"
        }
      ]
    },
    {
      "cell_type": "code",
      "metadata": {
        "id": "jbQTpLKFodSh"
      },
      "source": [
        "#now let's apply the vectorize text function to train and test data\n",
        "train = train_dataset.batch(20).map(vectorize_text)\n",
        "test = test_dataset.batch(20).map(vectorize_text)"
      ],
      "execution_count": null,
      "outputs": []
    },
    {
      "cell_type": "code",
      "metadata": {
        "colab": {
          "base_uri": "https://localhost:8080/"
        },
        "id": "f4U755HaXGyW",
        "outputId": "ba30d37e-ec34-431f-ddcc-a6f982ce8e27"
      },
      "source": [
        "test"
      ],
      "execution_count": null,
      "outputs": [
        {
          "output_type": "execute_result",
          "data": {
            "text/plain": [
              "<MapDataset shapes: ((None, 250), (None,)), types: (tf.int64, tf.int64)>"
            ]
          },
          "metadata": {
            "tags": []
          },
          "execution_count": 15
        }
      ]
    },
    {
      "cell_type": "code",
      "metadata": {
        "id": "qEFzCbK8uK2a"
      },
      "source": [
        "#cache the data\n",
        "AUTOTUNE = tf.data.AUTOTUNE\n",
        "\n",
        "train = train.cache().prefetch(buffer_size = AUTOTUNE)\n",
        "test = test.cache().prefetch(buffer_size = AUTOTUNE)"
      ],
      "execution_count": null,
      "outputs": []
    },
    {
      "cell_type": "markdown",
      "metadata": {
        "id": "PQD-0Q3dEvaJ"
      },
      "source": [
        "Now Let's create the model and apply it to the train set."
      ]
    },
    {
      "cell_type": "code",
      "metadata": {
        "colab": {
          "base_uri": "https://localhost:8080/"
        },
        "id": "AE-gbMyED-aH",
        "outputId": "fac23de5-0c7d-4b10-e186-2b561662cafc"
      },
      "source": [
        "embedding_dim = 16\n",
        "#initialize the model\n",
        "modelb = tf.keras.Sequential([layers.Embedding(max_features + 1, embedding_dim), layers.Dropout(0.5), layers.GlobalAveragePooling1D(), layers.Dropout(0.2), layers.Dense(3)])\n",
        "\n",
        "#print model summary\n",
        "modelb.summary()"
      ],
      "execution_count": null,
      "outputs": [
        {
          "output_type": "stream",
          "text": [
            "Model: \"sequential\"\n",
            "_________________________________________________________________\n",
            "Layer (type)                 Output Shape              Param #   \n",
            "=================================================================\n",
            "embedding (Embedding)        (None, None, 16)          160016    \n",
            "_________________________________________________________________\n",
            "dropout (Dropout)            (None, None, 16)          0         \n",
            "_________________________________________________________________\n",
            "global_average_pooling1d (Gl (None, 16)                0         \n",
            "_________________________________________________________________\n",
            "dropout_1 (Dropout)          (None, 16)                0         \n",
            "_________________________________________________________________\n",
            "dense (Dense)                (None, 3)                 51        \n",
            "=================================================================\n",
            "Total params: 160,067\n",
            "Trainable params: 160,067\n",
            "Non-trainable params: 0\n",
            "_________________________________________________________________\n"
          ],
          "name": "stdout"
        }
      ]
    },
    {
      "cell_type": "code",
      "metadata": {
        "id": "GmoXGdROFJYA"
      },
      "source": [
        "#select the loss function and the optimizer\n",
        "modelb.compile(loss = 'sparse_categorical_crossentropy', optimizer = 'adam', metrics = ['accuracy'])"
      ],
      "execution_count": null,
      "outputs": []
    },
    {
      "cell_type": "code",
      "metadata": {
        "colab": {
          "base_uri": "https://localhost:8080/"
        },
        "id": "TYHBsN_5GOGW",
        "outputId": "8629ce43-446f-42c3-8cca-a405add24da4"
      },
      "source": [
        "import time\n",
        "tick = time.time()\n",
        "\n",
        "epochs = 10\n",
        "history = modelb.fit(train, epochs = epochs)\n",
        "\n",
        "tock = time.time()\n",
        "print('Took', (tock - tick)/60, 'minutes to run')"
      ],
      "execution_count": null,
      "outputs": [
        {
          "output_type": "stream",
          "text": [
            "Epoch 1/10\n",
            "1322/1322 [==============================] - 7s 5ms/step - loss: 1.1002 - accuracy: 0.4225\n",
            "Epoch 2/10\n",
            "1322/1322 [==============================] - 6s 5ms/step - loss: 1.0582 - accuracy: 0.4373\n",
            "Epoch 3/10\n",
            "1322/1322 [==============================] - 6s 4ms/step - loss: 1.0515 - accuracy: 0.4395\n",
            "Epoch 4/10\n",
            "1322/1322 [==============================] - 6s 5ms/step - loss: 1.0230 - accuracy: 0.4694\n",
            "Epoch 5/10\n",
            "1322/1322 [==============================] - 6s 5ms/step - loss: 1.0170 - accuracy: 0.4733\n",
            "Epoch 6/10\n",
            "1322/1322 [==============================] - 6s 5ms/step - loss: 0.9909 - accuracy: 0.5082\n",
            "Epoch 7/10\n",
            "1322/1322 [==============================] - 6s 5ms/step - loss: 0.9742 - accuracy: 0.5263\n",
            "Epoch 8/10\n",
            "1322/1322 [==============================] - 6s 5ms/step - loss: 0.9752 - accuracy: 0.5250\n",
            "Epoch 9/10\n",
            "1322/1322 [==============================] - 6s 5ms/step - loss: 1.0120 - accuracy: 0.5016\n",
            "Epoch 10/10\n",
            "1322/1322 [==============================] - 6s 5ms/step - loss: 0.9760 - accuracy: 0.5200\n",
            "Took 1.4374108910560608 minutes to run\n"
          ],
          "name": "stdout"
        }
      ]
    },
    {
      "cell_type": "code",
      "metadata": {
        "colab": {
          "base_uri": "https://localhost:8080/"
        },
        "id": "IfsEDJIsdPqm",
        "outputId": "b9b65e87-044c-4379-9711-130923cc1b3e"
      },
      "source": [
        "#use a different model\n",
        "model2 = tf.keras.models.Sequential([tf.keras.layers.Flatten(), \n",
        "                                    tf.keras.layers.Dense(128, activation=tf.nn.relu), \n",
        "                                    tf.keras.layers.Dropout(0.5),\n",
        "                                    tf.keras.layers.Dense(64, activation=tf.nn.relu), \n",
        "                                    tf.keras.layers.Dense(32, activation=tf.nn.relu), \n",
        "                                    tf.keras.layers.Dense(3, activation=tf.nn.softmax)])\n",
        "\n",
        "model2.compile(loss='sparse_categorical_crossentropy',optimizer='adam',metrics=['accuracy'])\n",
        "\n",
        "history2 = model2.fit(train, epochs = 10)"
      ],
      "execution_count": null,
      "outputs": [
        {
          "output_type": "stream",
          "text": [
            "Epoch 1/10\n",
            "1322/1322 [==============================] - 3s 2ms/step - loss: 9.7261 - accuracy: 0.3666\n",
            "Epoch 2/10\n",
            "1322/1322 [==============================] - 2s 2ms/step - loss: 1.1358 - accuracy: 0.4069\n",
            "Epoch 3/10\n",
            "1322/1322 [==============================] - 3s 2ms/step - loss: 1.0788 - accuracy: 0.4280\n",
            "Epoch 4/10\n",
            "1322/1322 [==============================] - 3s 2ms/step - loss: 1.0660 - accuracy: 0.4361\n",
            "Epoch 5/10\n",
            "1322/1322 [==============================] - 2s 2ms/step - loss: 1.0649 - accuracy: 0.4382\n",
            "Epoch 6/10\n",
            "1322/1322 [==============================] - 2s 2ms/step - loss: 1.0642 - accuracy: 0.4375\n",
            "Epoch 7/10\n",
            "1322/1322 [==============================] - 3s 2ms/step - loss: 1.0640 - accuracy: 0.4378\n",
            "Epoch 8/10\n",
            "1322/1322 [==============================] - 2s 2ms/step - loss: 1.0639 - accuracy: 0.4381\n",
            "Epoch 9/10\n",
            "1322/1322 [==============================] - 2s 2ms/step - loss: 1.0644 - accuracy: 0.4382\n",
            "Epoch 10/10\n",
            "1322/1322 [==============================] - 2s 2ms/step - loss: 1.0641 - accuracy: 0.4382\n"
          ],
          "name": "stdout"
        }
      ]
    },
    {
      "cell_type": "code",
      "metadata": {
        "colab": {
          "base_uri": "https://localhost:8080/"
        },
        "id": "02ZWSDZ_hJdO",
        "outputId": "c7d6a847-525e-45dd-eae9-7577ca0f3c6a"
      },
      "source": [
        "#check how accurate it can predict the test data\n",
        "model.evaluate(test)"
      ],
      "execution_count": null,
      "outputs": [
        {
          "output_type": "stream",
          "text": [
            "331/331 [==============================] - 1s 1ms/step - loss: 1.0601 - accuracy: 0.4418\n"
          ],
          "name": "stdout"
        },
        {
          "output_type": "execute_result",
          "data": {
            "text/plain": [
              "[1.0601345300674438, 0.4418041408061981]"
            ]
          },
          "metadata": {
            "tags": []
          },
          "execution_count": 471
        }
      ]
    },
    {
      "cell_type": "markdown",
      "metadata": {
        "id": "8ee2WiMKR9V9"
      },
      "source": [
        "The model is not predicting the three categories as expected. This could be because there is a different between the number of data points in the three classes. So now let's do the same analysis and see if the stock went up(1) or down(0) after news. Also We will be testing after 10 days in this attempt. "
      ]
    },
    {
      "cell_type": "code",
      "metadata": {
        "id": "0Vpa-6TNNau9",
        "colab": {
          "base_uri": "https://localhost:8080/",
          "height": 357
        },
        "outputId": "a44c2af1-5451-4019-ef49-524486378585"
      },
      "source": [
        "#first let's create a new dataset just to make everything clear\n",
        "cols = ['NEWS', 'SP1', 'SP2', 'SP5', 'SP10']\n",
        "\n",
        "#new dataframe\n",
        "df2 = df[cols]\n",
        "df2.head(10)\n"
      ],
      "execution_count": null,
      "outputs": [
        {
          "output_type": "execute_result",
          "data": {
            "text/html": [
              "<div>\n",
              "<style scoped>\n",
              "    .dataframe tbody tr th:only-of-type {\n",
              "        vertical-align: middle;\n",
              "    }\n",
              "\n",
              "    .dataframe tbody tr th {\n",
              "        vertical-align: top;\n",
              "    }\n",
              "\n",
              "    .dataframe thead th {\n",
              "        text-align: right;\n",
              "    }\n",
              "</style>\n",
              "<table border=\"1\" class=\"dataframe\">\n",
              "  <thead>\n",
              "    <tr style=\"text-align: right;\">\n",
              "      <th></th>\n",
              "      <th>NEWS</th>\n",
              "      <th>SP1</th>\n",
              "      <th>SP2</th>\n",
              "      <th>SP5</th>\n",
              "      <th>SP10</th>\n",
              "    </tr>\n",
              "  </thead>\n",
              "  <tbody>\n",
              "    <tr>\n",
              "      <th>0</th>\n",
              "      <td>City's deal with Loews rides wave of Mid-South...</td>\n",
              "      <td>39.73</td>\n",
              "      <td>37.01</td>\n",
              "      <td>33.42</td>\n",
              "      <td>31.26</td>\n",
              "    </tr>\n",
              "    <tr>\n",
              "      <th>1</th>\n",
              "      <td>Engine No 1, the giant-killing hedge fund, has...</td>\n",
              "      <td>61.18</td>\n",
              "      <td>61.45</td>\n",
              "      <td>61.05</td>\n",
              "      <td>61.05</td>\n",
              "    </tr>\n",
              "    <tr>\n",
              "      <th>2</th>\n",
              "      <td>Is Target Unstoppable After Another Big Earnin...</td>\n",
              "      <td>225.30</td>\n",
              "      <td>227.37</td>\n",
              "      <td>227.27</td>\n",
              "      <td>231.34</td>\n",
              "    </tr>\n",
              "    <tr>\n",
              "      <th>3</th>\n",
              "      <td>Tesla champion Ark Investment outguns Wall Str...</td>\n",
              "      <td>70.25</td>\n",
              "      <td>71.60</td>\n",
              "      <td>74.77</td>\n",
              "      <td>72.92</td>\n",
              "    </tr>\n",
              "    <tr>\n",
              "      <th>4</th>\n",
              "      <td>Here's Why NVIDIA Stock Jumped Today</td>\n",
              "      <td>649.78</td>\n",
              "      <td>650.58</td>\n",
              "      <td>678.79</td>\n",
              "      <td>704.76</td>\n",
              "    </tr>\n",
              "    <tr>\n",
              "      <th>5</th>\n",
              "      <td>The Southern Co. to Host Earnings Call</td>\n",
              "      <td>59.85</td>\n",
              "      <td>59.31</td>\n",
              "      <td>58.92</td>\n",
              "      <td>57.78</td>\n",
              "    </tr>\n",
              "    <tr>\n",
              "      <th>6</th>\n",
              "      <td>Here's Why Healthpeak Properties Is Worth a Lo...</td>\n",
              "      <td>29.83</td>\n",
              "      <td>29.38</td>\n",
              "      <td>29.52</td>\n",
              "      <td>29.92</td>\n",
              "    </tr>\n",
              "    <tr>\n",
              "      <th>7</th>\n",
              "      <td>AES Announces Private Offering of Senior Notes</td>\n",
              "      <td>20.88</td>\n",
              "      <td>20.42</td>\n",
              "      <td>21.15</td>\n",
              "      <td>20.44</td>\n",
              "    </tr>\n",
              "    <tr>\n",
              "      <th>8</th>\n",
              "      <td>Incyte Announces Acceptance and Priority Revie...</td>\n",
              "      <td>80.54</td>\n",
              "      <td>79.92</td>\n",
              "      <td>80.61</td>\n",
              "      <td>79.63</td>\n",
              "    </tr>\n",
              "    <tr>\n",
              "      <th>9</th>\n",
              "      <td>SHAREHOLDER ALERT: Levi &amp; Korsinsky, LLP Notif...</td>\n",
              "      <td>18.18</td>\n",
              "      <td>18.65</td>\n",
              "      <td>20.49</td>\n",
              "      <td>20.46</td>\n",
              "    </tr>\n",
              "  </tbody>\n",
              "</table>\n",
              "</div>"
            ],
            "text/plain": [
              "                                                NEWS     SP1  ...     SP5    SP10\n",
              "0  City's deal with Loews rides wave of Mid-South...   39.73  ...   33.42   31.26\n",
              "1  Engine No 1, the giant-killing hedge fund, has...   61.18  ...   61.05   61.05\n",
              "2  Is Target Unstoppable After Another Big Earnin...  225.30  ...  227.27  231.34\n",
              "3  Tesla champion Ark Investment outguns Wall Str...   70.25  ...   74.77   72.92\n",
              "4               Here's Why NVIDIA Stock Jumped Today  649.78  ...  678.79  704.76\n",
              "5             The Southern Co. to Host Earnings Call   59.85  ...   58.92   57.78\n",
              "6  Here's Why Healthpeak Properties Is Worth a Lo...   29.83  ...   29.52   29.92\n",
              "7     AES Announces Private Offering of Senior Notes   20.88  ...   21.15   20.44\n",
              "8  Incyte Announces Acceptance and Priority Revie...   80.54  ...   80.61   79.63\n",
              "9  SHAREHOLDER ALERT: Levi & Korsinsky, LLP Notif...   18.18  ...   20.49   20.46\n",
              "\n",
              "[10 rows x 5 columns]"
            ]
          },
          "metadata": {
            "tags": []
          },
          "execution_count": 21
        }
      ]
    },
    {
      "cell_type": "markdown",
      "metadata": {
        "id": "fCTjQ6Y7S7Th"
      },
      "source": [
        "Let's add new categorical columns but this time if the stock goes up or down (not percentage).\n",
        "\n",
        "- W10 = Winner in the 10th day after news (1- yes 0- no)\n",
        "\n",
        "- W2 = Winner 2 days after news"
      ]
    },
    {
      "cell_type": "code",
      "metadata": {
        "colab": {
          "base_uri": "https://localhost:8080/",
          "height": 558
        },
        "id": "CJfQ4tMWSn19",
        "outputId": "8a71381e-270b-4bbd-c8b1-f8071b4e1d3d"
      },
      "source": [
        "#create the two columns\n",
        "df2['W10'] = [1 if (x > y) else 0 for x, y in zip(df2.SP2, df2.SP1)]\n",
        "df2['W2'] = [1 if (x > y) else 0 for x,y in zip(df2.SP10, df2.SP1)]\n",
        "df2.head(10)"
      ],
      "execution_count": null,
      "outputs": [
        {
          "output_type": "stream",
          "text": [
            "/usr/local/lib/python3.7/dist-packages/ipykernel_launcher.py:2: SettingWithCopyWarning: \n",
            "A value is trying to be set on a copy of a slice from a DataFrame.\n",
            "Try using .loc[row_indexer,col_indexer] = value instead\n",
            "\n",
            "See the caveats in the documentation: https://pandas.pydata.org/pandas-docs/stable/user_guide/indexing.html#returning-a-view-versus-a-copy\n",
            "  \n",
            "/usr/local/lib/python3.7/dist-packages/ipykernel_launcher.py:3: SettingWithCopyWarning: \n",
            "A value is trying to be set on a copy of a slice from a DataFrame.\n",
            "Try using .loc[row_indexer,col_indexer] = value instead\n",
            "\n",
            "See the caveats in the documentation: https://pandas.pydata.org/pandas-docs/stable/user_guide/indexing.html#returning-a-view-versus-a-copy\n",
            "  This is separate from the ipykernel package so we can avoid doing imports until\n"
          ],
          "name": "stderr"
        },
        {
          "output_type": "execute_result",
          "data": {
            "text/html": [
              "<div>\n",
              "<style scoped>\n",
              "    .dataframe tbody tr th:only-of-type {\n",
              "        vertical-align: middle;\n",
              "    }\n",
              "\n",
              "    .dataframe tbody tr th {\n",
              "        vertical-align: top;\n",
              "    }\n",
              "\n",
              "    .dataframe thead th {\n",
              "        text-align: right;\n",
              "    }\n",
              "</style>\n",
              "<table border=\"1\" class=\"dataframe\">\n",
              "  <thead>\n",
              "    <tr style=\"text-align: right;\">\n",
              "      <th></th>\n",
              "      <th>NEWS</th>\n",
              "      <th>SP1</th>\n",
              "      <th>SP2</th>\n",
              "      <th>SP5</th>\n",
              "      <th>SP10</th>\n",
              "      <th>W10</th>\n",
              "      <th>W2</th>\n",
              "    </tr>\n",
              "  </thead>\n",
              "  <tbody>\n",
              "    <tr>\n",
              "      <th>0</th>\n",
              "      <td>City's deal with Loews rides wave of Mid-South...</td>\n",
              "      <td>39.73</td>\n",
              "      <td>37.01</td>\n",
              "      <td>33.42</td>\n",
              "      <td>31.26</td>\n",
              "      <td>0</td>\n",
              "      <td>0</td>\n",
              "    </tr>\n",
              "    <tr>\n",
              "      <th>1</th>\n",
              "      <td>Engine No 1, the giant-killing hedge fund, has...</td>\n",
              "      <td>61.18</td>\n",
              "      <td>61.45</td>\n",
              "      <td>61.05</td>\n",
              "      <td>61.05</td>\n",
              "      <td>1</td>\n",
              "      <td>0</td>\n",
              "    </tr>\n",
              "    <tr>\n",
              "      <th>2</th>\n",
              "      <td>Is Target Unstoppable After Another Big Earnin...</td>\n",
              "      <td>225.30</td>\n",
              "      <td>227.37</td>\n",
              "      <td>227.27</td>\n",
              "      <td>231.34</td>\n",
              "      <td>1</td>\n",
              "      <td>1</td>\n",
              "    </tr>\n",
              "    <tr>\n",
              "      <th>3</th>\n",
              "      <td>Tesla champion Ark Investment outguns Wall Str...</td>\n",
              "      <td>70.25</td>\n",
              "      <td>71.60</td>\n",
              "      <td>74.77</td>\n",
              "      <td>72.92</td>\n",
              "      <td>1</td>\n",
              "      <td>1</td>\n",
              "    </tr>\n",
              "    <tr>\n",
              "      <th>4</th>\n",
              "      <td>Here's Why NVIDIA Stock Jumped Today</td>\n",
              "      <td>649.78</td>\n",
              "      <td>650.58</td>\n",
              "      <td>678.79</td>\n",
              "      <td>704.76</td>\n",
              "      <td>1</td>\n",
              "      <td>1</td>\n",
              "    </tr>\n",
              "    <tr>\n",
              "      <th>5</th>\n",
              "      <td>The Southern Co. to Host Earnings Call</td>\n",
              "      <td>59.85</td>\n",
              "      <td>59.31</td>\n",
              "      <td>58.92</td>\n",
              "      <td>57.78</td>\n",
              "      <td>0</td>\n",
              "      <td>0</td>\n",
              "    </tr>\n",
              "    <tr>\n",
              "      <th>6</th>\n",
              "      <td>Here's Why Healthpeak Properties Is Worth a Lo...</td>\n",
              "      <td>29.83</td>\n",
              "      <td>29.38</td>\n",
              "      <td>29.52</td>\n",
              "      <td>29.92</td>\n",
              "      <td>0</td>\n",
              "      <td>1</td>\n",
              "    </tr>\n",
              "    <tr>\n",
              "      <th>7</th>\n",
              "      <td>AES Announces Private Offering of Senior Notes</td>\n",
              "      <td>20.88</td>\n",
              "      <td>20.42</td>\n",
              "      <td>21.15</td>\n",
              "      <td>20.44</td>\n",
              "      <td>0</td>\n",
              "      <td>0</td>\n",
              "    </tr>\n",
              "    <tr>\n",
              "      <th>8</th>\n",
              "      <td>Incyte Announces Acceptance and Priority Revie...</td>\n",
              "      <td>80.54</td>\n",
              "      <td>79.92</td>\n",
              "      <td>80.61</td>\n",
              "      <td>79.63</td>\n",
              "      <td>0</td>\n",
              "      <td>0</td>\n",
              "    </tr>\n",
              "    <tr>\n",
              "      <th>9</th>\n",
              "      <td>SHAREHOLDER ALERT: Levi &amp; Korsinsky, LLP Notif...</td>\n",
              "      <td>18.18</td>\n",
              "      <td>18.65</td>\n",
              "      <td>20.49</td>\n",
              "      <td>20.46</td>\n",
              "      <td>1</td>\n",
              "      <td>1</td>\n",
              "    </tr>\n",
              "  </tbody>\n",
              "</table>\n",
              "</div>"
            ],
            "text/plain": [
              "                                                NEWS     SP1  ...  W10  W2\n",
              "0  City's deal with Loews rides wave of Mid-South...   39.73  ...    0   0\n",
              "1  Engine No 1, the giant-killing hedge fund, has...   61.18  ...    1   0\n",
              "2  Is Target Unstoppable After Another Big Earnin...  225.30  ...    1   1\n",
              "3  Tesla champion Ark Investment outguns Wall Str...   70.25  ...    1   1\n",
              "4               Here's Why NVIDIA Stock Jumped Today  649.78  ...    1   1\n",
              "5             The Southern Co. to Host Earnings Call   59.85  ...    0   0\n",
              "6  Here's Why Healthpeak Properties Is Worth a Lo...   29.83  ...    0   1\n",
              "7     AES Announces Private Offering of Senior Notes   20.88  ...    0   0\n",
              "8  Incyte Announces Acceptance and Priority Revie...   80.54  ...    0   0\n",
              "9  SHAREHOLDER ALERT: Levi & Korsinsky, LLP Notif...   18.18  ...    1   1\n",
              "\n",
              "[10 rows x 7 columns]"
            ]
          },
          "metadata": {
            "tags": []
          },
          "execution_count": 22
        }
      ]
    },
    {
      "cell_type": "code",
      "metadata": {
        "colab": {
          "base_uri": "https://localhost:8080/",
          "height": 405
        },
        "id": "xaGoZ8QSTiHT",
        "outputId": "2b3e9123-bf5a-49cd-eaad-c9b0a3dcd041"
      },
      "source": [
        "#plot histograms to see if the data is balanced\n",
        "#W2\n",
        "dataw2 = {\"0\": len(df2[df2.W2 == 0]), \"1\": len(df2[df2.W2 == 1])}\n",
        "plt.figure(figsize = (5, 3))\n",
        "plt.bar(dataw2.keys(), dataw2.values())\n",
        "plt.show()\n",
        "\n",
        "#W10\n",
        "dataw10 = {\"0\": len(df2[df2.W10 == 0]), \"1\": len(df2[df2.W10 == 1])}\n",
        "plt.figure(figsize = (5, 3))\n",
        "plt.bar(dataw10.keys(), dataw10.values())\n",
        "plt.show()"
      ],
      "execution_count": null,
      "outputs": [
        {
          "output_type": "display_data",
          "data": {
            "image/png": "[encoded data removed]",
            "text/plain": [
              "<Figure size 360x216 with 1 Axes>"
            ]
          },
          "metadata": {
            "tags": [],
            "needs_background": "light"
          }
        },
        {
          "output_type": "display_data",
          "data": {
            "image/png": "[encoded data removed]",
            "text/plain": [
              "<Figure size 360x216 with 1 Axes>"
            ]
          },
          "metadata": {
            "tags": [],
            "needs_background": "light"
          }
        }
      ]
    },
    {
      "cell_type": "code",
      "metadata": {
        "id": "GLAyU2qjVUvA"
      },
      "source": [
        "#process the data\n",
        "\n",
        "#80% data\n",
        "split_idx = int(np.round(len(df2) * 0.8))\n",
        "\n",
        "#train data and label\n",
        "raw_train_data = df2['NEWS'][:split_idx]\n",
        "train_labels = df2['W2'][:split_idx]\n",
        "\n",
        "#test data and label\n",
        "raw_test_data = df2['NEWS'][split_idx:].reset_index(drop = True)\n",
        "test_labels = df2['W2'][split_idx:].reset_index(drop = True) \n",
        "\n",
        "#apply to train data\n",
        "train_data = raw_train_data.apply(remove_punc)\n",
        "test_data = raw_test_data.apply(remove_punc)\n",
        "\n",
        "#first put the train data and labels to one dataset\n",
        "train_dataset = tf.data.Dataset.from_tensor_slices((train_data.values, train_labels.values))\n",
        "\n",
        "#do the same for the test dataset\n",
        "test_dataset = tf.data.Dataset.from_tensor_slices((test_data.values, test_labels.values))\n",
        "\n",
        "#max features and sequence length\n",
        "max_features = 10000\n",
        "sequence_length = 250\n",
        "\n",
        "#initialize vectorization\n",
        "vectorize_layer = TextVectorization(max_tokens = max_features, output_mode = 'int', output_sequence_length = sequence_length)\n",
        "\n",
        "#get train text from the train_datset\n",
        "train_text = train_dataset.map(lambda x, y: x)\n",
        "\n",
        "#use the vectorize layer on the train dataset\n",
        "vectorize_layer.adapt(train_text)\n",
        "\n",
        "#now let's apply the vectorize text function to train and test data\n",
        "train = train_dataset.batch(32).map(vectorize_text)\n",
        "test = test_dataset.batch(32).map(vectorize_text)\n",
        "\n",
        "#cache the data\n",
        "AUTOTUNE = tf.data.AUTOTUNE\n",
        "\n",
        "train = train.cache().prefetch(buffer_size = AUTOTUNE)\n",
        "test = test.cache().prefetch(buffer_size = AUTOTUNE)"
      ],
      "execution_count": null,
      "outputs": []
    },
    {
      "cell_type": "code",
      "metadata": {
        "colab": {
          "base_uri": "https://localhost:8080/"
        },
        "id": "PDJcy2LvVrj3",
        "outputId": "fe2bd8d9-4bfb-488a-8eac-6ffd1bbbaac7"
      },
      "source": [
        "#train the model\n",
        "embedding_dim = 16\n",
        "#initialize the model\n",
        "model = tf.keras.Sequential([layers.Embedding(max_features + 1, embedding_dim), layers.Dropout(0.2), layers.GlobalAveragePooling1D(), layers.Dropout(0.2), layers.Dense(1)])\n",
        "\n",
        "#print model summary\n",
        "model.summary()"
      ],
      "execution_count": null,
      "outputs": [
        {
          "output_type": "stream",
          "text": [
            "Model: \"sequential_31\"\n",
            "_________________________________________________________________\n",
            "Layer (type)                 Output Shape              Param #   \n",
            "=================================================================\n",
            "embedding_29 (Embedding)     (None, None, 16)          160016    \n",
            "_________________________________________________________________\n",
            "dropout_58 (Dropout)         (None, None, 16)          0         \n",
            "_________________________________________________________________\n",
            "global_average_pooling1d_29  (None, 16)                0         \n",
            "_________________________________________________________________\n",
            "dropout_59 (Dropout)         (None, 16)                0         \n",
            "_________________________________________________________________\n",
            "dense_43 (Dense)             (None, 1)                 17        \n",
            "=================================================================\n",
            "Total params: 160,033\n",
            "Trainable params: 160,033\n",
            "Non-trainable params: 0\n",
            "_________________________________________________________________\n"
          ],
          "name": "stdout"
        }
      ]
    },
    {
      "cell_type": "code",
      "metadata": {
        "id": "RHIECHOKZmDH"
      },
      "source": [
        "model.compile(loss=losses.BinaryCrossentropy(from_logits=True),\n",
        "              optimizer='adam',\n",
        "              metrics=tf.metrics.BinaryAccuracy(threshold=0.0))"
      ],
      "execution_count": null,
      "outputs": []
    },
    {
      "cell_type": "code",
      "metadata": {
        "colab": {
          "base_uri": "https://localhost:8080/"
        },
        "id": "hNMCMg43Zrt3",
        "outputId": "f9c2dc75-407f-4cc0-d86a-c0c67d01f7be"
      },
      "source": [
        "import time\n",
        "tick = time.time()\n",
        "\n",
        "epochs = 10\n",
        "history = model.fit(train, epochs = epochs)\n",
        "\n",
        "tock = time.time()\n",
        "print('Took', (tock - tick)/60, 'minutes to run')"
      ],
      "execution_count": null,
      "outputs": [
        {
          "output_type": "stream",
          "text": [
            "Epoch 1/10\n",
            "826/826 [==============================] - 6s 7ms/step - loss: 0.6722 - binary_accuracy: 0.6044\n",
            "Epoch 2/10\n",
            "826/826 [==============================] - 5s 7ms/step - loss: 0.6708 - binary_accuracy: 0.6048\n",
            "Epoch 3/10\n",
            "826/826 [==============================] - 5s 7ms/step - loss: 0.6704 - binary_accuracy: 0.6048\n",
            "Epoch 4/10\n",
            "826/826 [==============================] - 5s 7ms/step - loss: 0.6693 - binary_accuracy: 0.6048\n",
            "Epoch 5/10\n",
            "826/826 [==============================] - 5s 7ms/step - loss: 0.6681 - binary_accuracy: 0.6048\n",
            "Epoch 6/10\n",
            "826/826 [==============================] - 5s 7ms/step - loss: 0.6668 - binary_accuracy: 0.6048\n",
            "Epoch 7/10\n",
            "826/826 [==============================] - 5s 7ms/step - loss: 0.6648 - binary_accuracy: 0.6048\n",
            "Epoch 8/10\n",
            "826/826 [==============================] - 5s 6ms/step - loss: 0.6617 - binary_accuracy: 0.6048\n",
            "Epoch 9/10\n",
            "826/826 [==============================] - 5s 7ms/step - loss: 0.6580 - binary_accuracy: 0.6052\n",
            "Epoch 10/10\n",
            "826/826 [==============================] - 6s 7ms/step - loss: 0.6527 - binary_accuracy: 0.6064\n",
            "Took 1.555574107170105 minutes to run\n"
          ],
          "name": "stdout"
        }
      ]
    },
    {
      "cell_type": "markdown",
      "metadata": {
        "id": "LxKuZPf8V_DY"
      },
      "source": [
        "<u> Check if the stock gained or went down in 10 days after the news </u>"
      ]
    },
    {
      "cell_type": "code",
      "metadata": {
        "id": "fCypMpB_ZwL0"
      },
      "source": [
        "#now do check the accuracy after 10 days\n",
        "\n",
        "#process the data\n",
        "\n",
        "#80% data\n",
        "split_idx = int(np.round(len(df2) * 0.8))\n",
        "\n",
        "#train data and label\n",
        "raw_train_data = df2['NEWS'][:split_idx]\n",
        "train_labels = df2['W10'][:split_idx]\n",
        "\n",
        "#test data and label\n",
        "raw_test_data = df2['NEWS'][split_idx:].reset_index(drop = True)\n",
        "test_labels = df2['W10'][split_idx:].reset_index(drop = True) \n",
        "\n",
        "#apply to train data\n",
        "train_data = raw_train_data.apply(remove_punc)\n",
        "test_data = raw_test_data.apply(remove_punc)\n",
        "\n",
        "#first put the train data and labels to one dataset\n",
        "train_dataset = tf.data.Dataset.from_tensor_slices((train_data.values, train_labels.values))\n",
        "\n",
        "#do the same for the test dataset\n",
        "test_dataset = tf.data.Dataset.from_tensor_slices((test_data.values, test_labels.values))\n",
        "\n",
        "#max features and sequence length\n",
        "max_features = 10000\n",
        "sequence_length = 250\n",
        "\n",
        "#initialize vectorization\n",
        "vectorize_layer = TextVectorization(max_tokens = max_features, output_mode = 'int', output_sequence_length = sequence_length)\n",
        "\n",
        "#get train text from the train_datset\n",
        "train_text = train_dataset.map(lambda x, y: x)\n",
        "\n",
        "#use the vectorize layer on the train dataset\n",
        "vectorize_layer.adapt(train_text)\n",
        "\n",
        "#now let's apply the vectorize text function to train and test data\n",
        "train = train_dataset.batch(10).map(vectorize_text)\n",
        "test = test_dataset.batch(10).map(vectorize_text)\n",
        "\n",
        "#cache the data\n",
        "AUTOTUNE = tf.data.AUTOTUNE\n",
        "\n",
        "train = train.cache().prefetch(buffer_size = AUTOTUNE)\n",
        "test = test.cache().prefetch(buffer_size = AUTOTUNE)"
      ],
      "execution_count": null,
      "outputs": []
    },
    {
      "cell_type": "code",
      "metadata": {
        "id": "oktlI2AoalL3"
      },
      "source": [
        "#train the model\n",
        "embedding_dim = 16\n",
        "#initialize the model\n",
        "model = tf.keras.Sequential([layers.Embedding(max_features + 1, embedding_dim), layers.Dropout(0.2), layers.GlobalAveragePooling1D(), layers.Dropout(0.2), layers.Dense(1)])\n",
        "\n",
        "model.compile(loss=losses.BinaryCrossentropy(from_logits=True),\n",
        "              optimizer='adam',\n",
        "              metrics=tf.metrics.BinaryAccuracy(threshold=0.0))"
      ],
      "execution_count": null,
      "outputs": []
    },
    {
      "cell_type": "code",
      "metadata": {
        "colab": {
          "base_uri": "https://localhost:8080/"
        },
        "id": "8ewgweHBaqqo",
        "outputId": "e679fec1-b4ae-48bb-b6ab-9d4e51f1ca88"
      },
      "source": [
        "import time\n",
        "tick = time.time()\n",
        "\n",
        "epochs = 15\n",
        "history = model.fit(train, epochs = epochs)\n",
        "\n",
        "tock = time.time()\n",
        "print('Took', (tock - tick)/60, 'minutes to run')"
      ],
      "execution_count": null,
      "outputs": [
        {
          "output_type": "stream",
          "text": [
            "Epoch 1/15\n",
            "2643/2643 [==============================] - 11s 4ms/step - loss: 0.6902 - binary_accuracy: 0.5398\n",
            "Epoch 2/15\n",
            "2643/2643 [==============================] - 10s 4ms/step - loss: 0.6892 - binary_accuracy: 0.5397\n",
            "Epoch 3/15\n",
            "2643/2643 [==============================] - 10s 4ms/step - loss: 0.6878 - binary_accuracy: 0.5396\n",
            "Epoch 4/15\n",
            "2643/2643 [==============================] - 10s 4ms/step - loss: 0.6853 - binary_accuracy: 0.5451\n",
            "Epoch 5/15\n",
            "2643/2643 [==============================] - 10s 4ms/step - loss: 0.6814 - binary_accuracy: 0.5596\n",
            "Epoch 6/15\n",
            "2643/2643 [==============================] - 10s 4ms/step - loss: 0.6748 - binary_accuracy: 0.5841\n",
            "Epoch 7/15\n",
            "2643/2643 [==============================] - 10s 4ms/step - loss: 0.6660 - binary_accuracy: 0.6099\n",
            "Epoch 8/15\n",
            "2643/2643 [==============================] - 11s 4ms/step - loss: 0.6561 - binary_accuracy: 0.6277\n",
            "Epoch 9/15\n",
            "2643/2643 [==============================] - 11s 4ms/step - loss: 0.6458 - binary_accuracy: 0.6424\n",
            "Epoch 10/15\n",
            "2643/2643 [==============================] - 11s 4ms/step - loss: 0.6354 - binary_accuracy: 0.6521\n",
            "Epoch 11/15\n",
            "2643/2643 [==============================] - 10s 4ms/step - loss: 0.6247 - binary_accuracy: 0.6607\n",
            "Epoch 12/15\n",
            "2643/2643 [==============================] - 10s 4ms/step - loss: 0.6149 - binary_accuracy: 0.6686\n",
            "Epoch 13/15\n",
            "2643/2643 [==============================] - 10s 4ms/step - loss: 0.6068 - binary_accuracy: 0.6718\n",
            "Epoch 14/15\n",
            "2643/2643 [==============================] - 11s 4ms/step - loss: 0.5994 - binary_accuracy: 0.6772\n",
            "Epoch 15/15\n",
            "2643/2643 [==============================] - 11s 4ms/step - loss: 0.5932 - binary_accuracy: 0.6814\n",
            "Took 3.255054767926534 minutes to run\n"
          ],
          "name": "stdout"
        }
      ]
    },
    {
      "cell_type": "code",
      "metadata": {
        "id": "hbwmYDlRbL_A",
        "colab": {
          "base_uri": "https://localhost:8080/"
        },
        "outputId": "cde5240a-648c-48b9-dc9d-11e99d2d2657"
      },
      "source": [
        "#use test dataset to predict\n",
        "model.evaluate(test)"
      ],
      "execution_count": null,
      "outputs": [
        {
          "output_type": "stream",
          "text": [
            "661/661 [==============================] - 1s 1ms/step - loss: 0.6951 - binary_accuracy: 0.5586\n"
          ],
          "name": "stdout"
        },
        {
          "output_type": "execute_result",
          "data": {
            "text/plain": [
              "[0.6951003074645996, 0.5586498975753784]"
            ]
          },
          "metadata": {
            "tags": []
          },
          "execution_count": 37
        }
      ]
    },
    {
      "cell_type": "code",
      "metadata": {
        "colab": {
          "base_uri": "https://localhost:8080/"
        },
        "id": "yw9qM9ufYpxF",
        "outputId": "9cfbf935-7c87-495f-9399-240ba02ebc1f"
      },
      "source": [
        "#increase dropout\n",
        "#train the model\n",
        "embedding_dim = 16\n",
        "#initialize the model\n",
        "model = tf.keras.Sequential([layers.Embedding(max_features + 1, embedding_dim), layers.Dropout(0.5), layers.GlobalAveragePooling1D(), layers.Dense(100),\n",
        "                             layers.Dropout(0.5), layers.Dense(1)])\n",
        "\n",
        "model.compile(loss=losses.BinaryCrossentropy(from_logits=True),\n",
        "              optimizer='adam',\n",
        "              metrics=tf.metrics.BinaryAccuracy(threshold=0.0))\n",
        "\n",
        "import time\n",
        "tick = time.time()\n",
        "\n",
        "epochs = 15\n",
        "history = model.fit(train, epochs = epochs)\n",
        "\n",
        "tock = time.time()\n",
        "print('Took', (tock - tick)/60, 'minutes to run')"
      ],
      "execution_count": null,
      "outputs": [
        {
          "output_type": "stream",
          "text": [
            "Epoch 1/15\n",
            "2643/2643 [==============================] - 12s 4ms/step - loss: 0.6907 - binary_accuracy: 0.5391\n",
            "Epoch 2/15\n",
            "2643/2643 [==============================] - 11s 4ms/step - loss: 0.6904 - binary_accuracy: 0.5396\n",
            "Epoch 3/15\n",
            "2643/2643 [==============================] - 11s 4ms/step - loss: 0.6886 - binary_accuracy: 0.5416\n",
            "Epoch 4/15\n",
            "2643/2643 [==============================] - 12s 4ms/step - loss: 0.6741 - binary_accuracy: 0.5835\n",
            "Epoch 5/15\n",
            "2643/2643 [==============================] - 11s 4ms/step - loss: 0.6472 - binary_accuracy: 0.6212\n",
            "Epoch 6/15\n",
            "2643/2643 [==============================] - 11s 4ms/step - loss: 0.6280 - binary_accuracy: 0.6436\n",
            "Epoch 7/15\n",
            "2643/2643 [==============================] - 12s 5ms/step - loss: 0.6149 - binary_accuracy: 0.6572\n",
            "Epoch 8/15\n",
            "2643/2643 [==============================] - 12s 4ms/step - loss: 0.6042 - binary_accuracy: 0.6639\n",
            "Epoch 9/15\n",
            "2643/2643 [==============================] - 11s 4ms/step - loss: 0.5953 - binary_accuracy: 0.6714\n",
            "Epoch 10/15\n",
            "2643/2643 [==============================] - 11s 4ms/step - loss: 0.5859 - binary_accuracy: 0.6785\n",
            "Epoch 11/15\n",
            "2643/2643 [==============================] - 11s 4ms/step - loss: 0.5797 - binary_accuracy: 0.6819\n",
            "Epoch 12/15\n",
            "2643/2643 [==============================] - 11s 4ms/step - loss: 0.5729 - binary_accuracy: 0.6883\n",
            "Epoch 13/15\n",
            "2643/2643 [==============================] - 11s 4ms/step - loss: 0.5695 - binary_accuracy: 0.6918\n",
            "Epoch 14/15\n",
            "2643/2643 [==============================] - 11s 4ms/step - loss: 0.5632 - binary_accuracy: 0.6947\n",
            "Epoch 15/15\n",
            "2643/2643 [==============================] - 11s 4ms/step - loss: 0.5605 - binary_accuracy: 0.6964\n",
            "Took 3.8986422101656597 minutes to run\n"
          ],
          "name": "stdout"
        }
      ]
    },
    {
      "cell_type": "code",
      "metadata": {
        "colab": {
          "base_uri": "https://localhost:8080/"
        },
        "id": "qhYqiH3KZp98",
        "outputId": "25df01ba-e42c-4952-8c2e-c10dacc848d1"
      },
      "source": [
        "#use test dataset to predict\n",
        "model.evaluate(test)"
      ],
      "execution_count": null,
      "outputs": [
        {
          "output_type": "stream",
          "text": [
            "661/661 [==============================] - 1s 1ms/step - loss: 0.7597 - binary_accuracy: 0.5426\n"
          ],
          "name": "stdout"
        },
        {
          "output_type": "execute_result",
          "data": {
            "text/plain": [
              "[0.7596632242202759, 0.5426063537597656]"
            ]
          },
          "metadata": {
            "tags": []
          },
          "execution_count": 41
        }
      ]
    },
    {
      "cell_type": "code",
      "metadata": {
        "id": "BGxiXqI_aSDz"
      },
      "source": [
        "#create a function with the data\n",
        "def compile_and_fit(train_ds, val_ds, model, name, optimizer = None, max_epochs = 10000):\n",
        "\n",
        "\n",
        "  model.compile(optimizer = 'Adam', loss = tf.keras.losses.BinaryCrossentropy(from_logits = True), metrics = [tf.keras.losses.BinaryCrossentropy(from_logits = True, name = \\\n",
        "                                                                                                                                              'binary_crossentropy'), 'accuracy'])\n",
        "  \n",
        "  model.summary()\n",
        "\n",
        "  history = model.fit(train_ds, epochs = max_epochs, validation_data = val_ds, verbose = 0)\n",
        "\n",
        "  return history\n",
        "\n"
      ],
      "execution_count": null,
      "outputs": []
    },
    {
      "cell_type": "code",
      "metadata": {
        "colab": {
          "base_uri": "https://localhost:8080/",
          "height": 774
        },
        "id": "iPKu6iOLedMT",
        "outputId": "ea0c5f18-7665-4c30-97ac-29225ef0b2cd"
      },
      "source": [
        "tiny_model = tf.keras.Sequential([\n",
        "    layers.Dense(16, activation='elu', input_shape=(250,)),\n",
        "    layers.Dense(1) ])\n",
        "\n",
        "compile_and_fit(train, test, tiny_model, 'sizes/Tiny')"
      ],
      "execution_count": null,
      "outputs": [
        {
          "output_type": "stream",
          "text": [
            "Model: \"sequential_9\"\n",
            "_________________________________________________________________\n",
            "Layer (type)                 Output Shape              Param #   \n",
            "=================================================================\n",
            "dense_17 (Dense)             (None, 16)                4016      \n",
            "_________________________________________________________________\n",
            "dense_18 (Dense)             (None, 1)                 17        \n",
            "=================================================================\n",
            "Total params: 4,033\n",
            "Trainable params: 4,033\n",
            "Non-trainable params: 0\n",
            "_________________________________________________________________\n"
          ],
          "name": "stdout"
        },
        {
          "output_type": "stream",
          "text": [
            "Exception ignored in: <function IteratorResourceDeleter.__del__ at 0x7fe7b20c78c0>\n",
            "Traceback (most recent call last):\n",
            "  File \"/usr/local/lib/python3.7/dist-packages/tensorflow/python/data/ops/iterator_ops.py\", line 546, in __del__\n",
            "    handle=self._handle, deleter=self._deleter)\n",
            "  File \"/usr/local/lib/python3.7/dist-packages/tensorflow/python/ops/gen_dataset_ops.py\", line 1264, in delete_iterator\n",
            "    _ctx, \"DeleteIterator\", name, handle, deleter)\n",
            "KeyboardInterrupt: \n",
            "Exception ignored in: <function IteratorResourceDeleter.__del__ at 0x7fe7b20c78c0>\n",
            "Traceback (most recent call last):\n",
            "  File \"/usr/local/lib/python3.7/dist-packages/tensorflow/python/data/ops/iterator_ops.py\", line 546, in __del__\n",
            "    handle=self._handle, deleter=self._deleter)\n",
            "  File \"/usr/local/lib/python3.7/dist-packages/tensorflow/python/ops/gen_dataset_ops.py\", line 1264, in delete_iterator\n",
            "    _ctx, \"DeleteIterator\", name, handle, deleter)\n",
            "KeyboardInterrupt: \n"
          ],
          "name": "stderr"
        },
        {
          "output_type": "error",
          "ename": "KeyboardInterrupt",
          "evalue": "ignored",
          "traceback": [
            "\u001b[0;31m---------------------------------------------------------------------------\u001b[0m",
            "\u001b[0;31mKeyboardInterrupt\u001b[0m                         Traceback (most recent call last)",
            "\u001b[0;32m<ipython-input-49-2300fff0665b>\u001b[0m in \u001b[0;36m<module>\u001b[0;34m()\u001b[0m\n\u001b[1;32m      3\u001b[0m     layers.Dense(1) ])\n\u001b[1;32m      4\u001b[0m \u001b[0;34m\u001b[0m\u001b[0m\n\u001b[0;32m----> 5\u001b[0;31m \u001b[0mcompile_and_fit\u001b[0m\u001b[0;34m(\u001b[0m\u001b[0mtrain\u001b[0m\u001b[0;34m,\u001b[0m \u001b[0mtest\u001b[0m\u001b[0;34m,\u001b[0m \u001b[0mtiny_model\u001b[0m\u001b[0;34m,\u001b[0m \u001b[0;34m'sizes/Tiny'\u001b[0m\u001b[0;34m)\u001b[0m\u001b[0;34m\u001b[0m\u001b[0;34m\u001b[0m\u001b[0m\n\u001b[0m",
            "\u001b[0;32m<ipython-input-48-59f02660df5f>\u001b[0m in \u001b[0;36mcompile_and_fit\u001b[0;34m(train_ds, val_ds, model, name, optimizer, max_epochs)\u001b[0m\n\u001b[1;32m      7\u001b[0m   \u001b[0mmodel\u001b[0m\u001b[0;34m.\u001b[0m\u001b[0msummary\u001b[0m\u001b[0;34m(\u001b[0m\u001b[0;34m)\u001b[0m\u001b[0;34m\u001b[0m\u001b[0;34m\u001b[0m\u001b[0m\n\u001b[1;32m      8\u001b[0m \u001b[0;34m\u001b[0m\u001b[0m\n\u001b[0;32m----> 9\u001b[0;31m   \u001b[0mhistory\u001b[0m \u001b[0;34m=\u001b[0m \u001b[0mmodel\u001b[0m\u001b[0;34m.\u001b[0m\u001b[0mfit\u001b[0m\u001b[0;34m(\u001b[0m\u001b[0mtrain_ds\u001b[0m\u001b[0;34m,\u001b[0m \u001b[0mepochs\u001b[0m \u001b[0;34m=\u001b[0m \u001b[0mmax_epochs\u001b[0m\u001b[0;34m,\u001b[0m \u001b[0mvalidation_data\u001b[0m \u001b[0;34m=\u001b[0m \u001b[0mval_ds\u001b[0m\u001b[0;34m,\u001b[0m \u001b[0mverbose\u001b[0m \u001b[0;34m=\u001b[0m \u001b[0;36m0\u001b[0m\u001b[0;34m)\u001b[0m\u001b[0;34m\u001b[0m\u001b[0;34m\u001b[0m\u001b[0m\n\u001b[0m\u001b[1;32m     10\u001b[0m \u001b[0;34m\u001b[0m\u001b[0m\n\u001b[1;32m     11\u001b[0m   \u001b[0;32mreturn\u001b[0m \u001b[0mhistory\u001b[0m\u001b[0;34m\u001b[0m\u001b[0;34m\u001b[0m\u001b[0m\n",
            "\u001b[0;32m/usr/local/lib/python3.7/dist-packages/tensorflow/python/keras/engine/training.py\u001b[0m in \u001b[0;36mfit\u001b[0;34m(self, x, y, batch_size, epochs, verbose, callbacks, validation_split, validation_data, shuffle, class_weight, sample_weight, initial_epoch, steps_per_epoch, validation_steps, validation_batch_size, validation_freq, max_queue_size, workers, use_multiprocessing)\u001b[0m\n\u001b[1;32m   1181\u001b[0m                 _r=1):\n\u001b[1;32m   1182\u001b[0m               \u001b[0mcallbacks\u001b[0m\u001b[0;34m.\u001b[0m\u001b[0mon_train_batch_begin\u001b[0m\u001b[0;34m(\u001b[0m\u001b[0mstep\u001b[0m\u001b[0;34m)\u001b[0m\u001b[0;34m\u001b[0m\u001b[0;34m\u001b[0m\u001b[0m\n\u001b[0;32m-> 1183\u001b[0;31m               \u001b[0mtmp_logs\u001b[0m \u001b[0;34m=\u001b[0m \u001b[0mself\u001b[0m\u001b[0;34m.\u001b[0m\u001b[0mtrain_function\u001b[0m\u001b[0;34m(\u001b[0m\u001b[0miterator\u001b[0m\u001b[0;34m)\u001b[0m\u001b[0;34m\u001b[0m\u001b[0;34m\u001b[0m\u001b[0m\n\u001b[0m\u001b[1;32m   1184\u001b[0m               \u001b[0;32mif\u001b[0m \u001b[0mdata_handler\u001b[0m\u001b[0;34m.\u001b[0m\u001b[0mshould_sync\u001b[0m\u001b[0;34m:\u001b[0m\u001b[0;34m\u001b[0m\u001b[0;34m\u001b[0m\u001b[0m\n\u001b[1;32m   1185\u001b[0m                 \u001b[0mcontext\u001b[0m\u001b[0;34m.\u001b[0m\u001b[0masync_wait\u001b[0m\u001b[0;34m(\u001b[0m\u001b[0;34m)\u001b[0m\u001b[0;34m\u001b[0m\u001b[0;34m\u001b[0m\u001b[0m\n",
            "\u001b[0;32m/usr/local/lib/python3.7/dist-packages/tensorflow/python/eager/def_function.py\u001b[0m in \u001b[0;36m__call__\u001b[0;34m(self, *args, **kwds)\u001b[0m\n\u001b[1;32m    887\u001b[0m \u001b[0;34m\u001b[0m\u001b[0m\n\u001b[1;32m    888\u001b[0m       \u001b[0;32mwith\u001b[0m \u001b[0mOptionalXlaContext\u001b[0m\u001b[0;34m(\u001b[0m\u001b[0mself\u001b[0m\u001b[0;34m.\u001b[0m\u001b[0m_jit_compile\u001b[0m\u001b[0;34m)\u001b[0m\u001b[0;34m:\u001b[0m\u001b[0;34m\u001b[0m\u001b[0;34m\u001b[0m\u001b[0m\n\u001b[0;32m--> 889\u001b[0;31m         \u001b[0mresult\u001b[0m \u001b[0;34m=\u001b[0m \u001b[0mself\u001b[0m\u001b[0;34m.\u001b[0m\u001b[0m_call\u001b[0m\u001b[0;34m(\u001b[0m\u001b[0;34m*\u001b[0m\u001b[0margs\u001b[0m\u001b[0;34m,\u001b[0m \u001b[0;34m**\u001b[0m\u001b[0mkwds\u001b[0m\u001b[0;34m)\u001b[0m\u001b[0;34m\u001b[0m\u001b[0;34m\u001b[0m\u001b[0m\n\u001b[0m\u001b[1;32m    890\u001b[0m \u001b[0;34m\u001b[0m\u001b[0m\n\u001b[1;32m    891\u001b[0m       \u001b[0mnew_tracing_count\u001b[0m \u001b[0;34m=\u001b[0m \u001b[0mself\u001b[0m\u001b[0;34m.\u001b[0m\u001b[0mexperimental_get_tracing_count\u001b[0m\u001b[0;34m(\u001b[0m\u001b[0;34m)\u001b[0m\u001b[0;34m\u001b[0m\u001b[0;34m\u001b[0m\u001b[0m\n",
            "\u001b[0;32m/usr/local/lib/python3.7/dist-packages/tensorflow/python/eager/def_function.py\u001b[0m in \u001b[0;36m_call\u001b[0;34m(self, *args, **kwds)\u001b[0m\n\u001b[1;32m    915\u001b[0m       \u001b[0;31m# In this case we have created variables on the first call, so we run the\u001b[0m\u001b[0;34m\u001b[0m\u001b[0;34m\u001b[0m\u001b[0;34m\u001b[0m\u001b[0m\n\u001b[1;32m    916\u001b[0m       \u001b[0;31m# defunned version which is guaranteed to never create variables.\u001b[0m\u001b[0;34m\u001b[0m\u001b[0;34m\u001b[0m\u001b[0;34m\u001b[0m\u001b[0m\n\u001b[0;32m--> 917\u001b[0;31m       \u001b[0;32mreturn\u001b[0m \u001b[0mself\u001b[0m\u001b[0;34m.\u001b[0m\u001b[0m_stateless_fn\u001b[0m\u001b[0;34m(\u001b[0m\u001b[0;34m*\u001b[0m\u001b[0margs\u001b[0m\u001b[0;34m,\u001b[0m \u001b[0;34m**\u001b[0m\u001b[0mkwds\u001b[0m\u001b[0;34m)\u001b[0m  \u001b[0;31m# pylint: disable=not-callable\u001b[0m\u001b[0;34m\u001b[0m\u001b[0;34m\u001b[0m\u001b[0m\n\u001b[0m\u001b[1;32m    918\u001b[0m     \u001b[0;32melif\u001b[0m \u001b[0mself\u001b[0m\u001b[0;34m.\u001b[0m\u001b[0m_stateful_fn\u001b[0m \u001b[0;32mis\u001b[0m \u001b[0;32mnot\u001b[0m \u001b[0;32mNone\u001b[0m\u001b[0;34m:\u001b[0m\u001b[0;34m\u001b[0m\u001b[0;34m\u001b[0m\u001b[0m\n\u001b[1;32m    919\u001b[0m       \u001b[0;31m# Release the lock early so that multiple threads can perform the call\u001b[0m\u001b[0;34m\u001b[0m\u001b[0;34m\u001b[0m\u001b[0;34m\u001b[0m\u001b[0m\n",
            "\u001b[0;32m/usr/local/lib/python3.7/dist-packages/tensorflow/python/eager/function.py\u001b[0m in \u001b[0;36m__call__\u001b[0;34m(self, *args, **kwargs)\u001b[0m\n\u001b[1;32m   3022\u001b[0m        filtered_flat_args) = self._maybe_define_function(args, kwargs)\n\u001b[1;32m   3023\u001b[0m     return graph_function._call_flat(\n\u001b[0;32m-> 3024\u001b[0;31m         filtered_flat_args, captured_inputs=graph_function.captured_inputs)  # pylint: disable=protected-access\n\u001b[0m\u001b[1;32m   3025\u001b[0m \u001b[0;34m\u001b[0m\u001b[0m\n\u001b[1;32m   3026\u001b[0m   \u001b[0;34m@\u001b[0m\u001b[0mproperty\u001b[0m\u001b[0;34m\u001b[0m\u001b[0;34m\u001b[0m\u001b[0m\n",
            "\u001b[0;32m/usr/local/lib/python3.7/dist-packages/tensorflow/python/eager/function.py\u001b[0m in \u001b[0;36m_call_flat\u001b[0;34m(self, args, captured_inputs, cancellation_manager)\u001b[0m\n\u001b[1;32m   1959\u001b[0m       \u001b[0;31m# No tape is watching; skip to running the function.\u001b[0m\u001b[0;34m\u001b[0m\u001b[0;34m\u001b[0m\u001b[0;34m\u001b[0m\u001b[0m\n\u001b[1;32m   1960\u001b[0m       return self._build_call_outputs(self._inference_function.call(\n\u001b[0;32m-> 1961\u001b[0;31m           ctx, args, cancellation_manager=cancellation_manager))\n\u001b[0m\u001b[1;32m   1962\u001b[0m     forward_backward = self._select_forward_and_backward_functions(\n\u001b[1;32m   1963\u001b[0m         \u001b[0margs\u001b[0m\u001b[0;34m,\u001b[0m\u001b[0;34m\u001b[0m\u001b[0;34m\u001b[0m\u001b[0m\n",
            "\u001b[0;32m/usr/local/lib/python3.7/dist-packages/tensorflow/python/eager/function.py\u001b[0m in \u001b[0;36mcall\u001b[0;34m(self, ctx, args, cancellation_manager)\u001b[0m\n\u001b[1;32m    594\u001b[0m               \u001b[0minputs\u001b[0m\u001b[0;34m=\u001b[0m\u001b[0margs\u001b[0m\u001b[0;34m,\u001b[0m\u001b[0;34m\u001b[0m\u001b[0;34m\u001b[0m\u001b[0m\n\u001b[1;32m    595\u001b[0m               \u001b[0mattrs\u001b[0m\u001b[0;34m=\u001b[0m\u001b[0mattrs\u001b[0m\u001b[0;34m,\u001b[0m\u001b[0;34m\u001b[0m\u001b[0;34m\u001b[0m\u001b[0m\n\u001b[0;32m--> 596\u001b[0;31m               ctx=ctx)\n\u001b[0m\u001b[1;32m    597\u001b[0m         \u001b[0;32melse\u001b[0m\u001b[0;34m:\u001b[0m\u001b[0;34m\u001b[0m\u001b[0;34m\u001b[0m\u001b[0m\n\u001b[1;32m    598\u001b[0m           outputs = execute.execute_with_cancellation(\n",
            "\u001b[0;32m/usr/local/lib/python3.7/dist-packages/tensorflow/python/eager/execute.py\u001b[0m in \u001b[0;36mquick_execute\u001b[0;34m(op_name, num_outputs, inputs, attrs, ctx, name)\u001b[0m\n\u001b[1;32m     58\u001b[0m     \u001b[0mctx\u001b[0m\u001b[0;34m.\u001b[0m\u001b[0mensure_initialized\u001b[0m\u001b[0;34m(\u001b[0m\u001b[0;34m)\u001b[0m\u001b[0;34m\u001b[0m\u001b[0;34m\u001b[0m\u001b[0m\n\u001b[1;32m     59\u001b[0m     tensors = pywrap_tfe.TFE_Py_Execute(ctx._handle, device_name, op_name,\n\u001b[0;32m---> 60\u001b[0;31m                                         inputs, attrs, num_outputs)\n\u001b[0m\u001b[1;32m     61\u001b[0m   \u001b[0;32mexcept\u001b[0m \u001b[0mcore\u001b[0m\u001b[0;34m.\u001b[0m\u001b[0m_NotOkStatusException\u001b[0m \u001b[0;32mas\u001b[0m \u001b[0me\u001b[0m\u001b[0;34m:\u001b[0m\u001b[0;34m\u001b[0m\u001b[0;34m\u001b[0m\u001b[0m\n\u001b[1;32m     62\u001b[0m     \u001b[0;32mif\u001b[0m \u001b[0mname\u001b[0m \u001b[0;32mis\u001b[0m \u001b[0;32mnot\u001b[0m \u001b[0;32mNone\u001b[0m\u001b[0;34m:\u001b[0m\u001b[0;34m\u001b[0m\u001b[0;34m\u001b[0m\u001b[0m\n",
            "\u001b[0;31mKeyboardInterrupt\u001b[0m: "
          ]
        }
      ]
    },
    {
      "cell_type": "code",
      "metadata": {
        "id": "libtE1_oeiga"
      },
      "source": [
        ""
      ],
      "execution_count": null,
      "outputs": []
    }
  ]
}